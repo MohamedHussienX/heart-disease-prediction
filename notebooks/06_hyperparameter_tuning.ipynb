{
 "cells": [
  {
   "cell_type": "markdown",
   "id": "8d8ec168",
   "metadata": {},
   "source": [
    "# 06 - Hyperparameter tuning & final model"
   ]
  },
  {
   "cell_type": "code",
   "execution_count": 4,
   "id": "c26ab77c",
   "metadata": {},
   "outputs": [
    {
     "name": "stdout",
     "output_type": "stream",
     "text": [
      "Original class distribution in training set:\n",
      "target\n",
      "0    128\n",
      "1     43\n",
      "3     28\n",
      "2     28\n",
      "4     10\n",
      "Name: count, dtype: int64\n",
      "\n",
      "After SMOTE application:\n",
      "target\n",
      "1    128\n",
      "0    128\n",
      "3    128\n",
      "4    128\n",
      "2    128\n",
      "Name: count, dtype: int64\n",
      "Training set size after SMOTE: 640 samples\n"
     ]
    }
   ],
   "source": [
    "# Cell 1: Imports and load dataset\n",
    "import pandas as pd\n",
    "from sklearn.model_selection import train_test_split, RandomizedSearchCV\n",
    "from sklearn.linear_model import LogisticRegression\n",
    "from sklearn.tree import DecisionTreeClassifier\n",
    "from sklearn.ensemble import RandomForestClassifier\n",
    "from sklearn.svm import SVC\n",
    "from sklearn.metrics import accuracy_score\n",
    "from imblearn.over_sampling import SMOTE  # Added import for SMOTE\n",
    "import joblib\n",
    "\n",
    "# Load dataset\n",
    "df = pd.read_csv(\"../data/heart_disease_selected.csv\")\n",
    "\n",
    "X = df.drop(\"target\", axis=1)\n",
    "y = df[\"target\"]\n",
    "\n",
    "# Train/test split\n",
    "X_train, X_test, y_train, y_test = train_test_split(\n",
    "    X, y, test_size=0.2, random_state=42, stratify=y\n",
    ")\n",
    "\n",
    "# ===========================\n",
    "# OPTIONAL: Apply SMOTE for balancing (recommended)\n",
    "# ===========================\n",
    "print(\"Original class distribution in training set:\")\n",
    "print(y_train.value_counts())\n",
    "\n",
    "# Uncomment the following lines to apply SMOTE:\n",
    "smote = SMOTE(random_state=42)\n",
    "X_train, y_train = smote.fit_resample(X_train, y_train)\n",
    "\n",
    "print(\"\\nAfter SMOTE application:\")\n",
    "print(pd.Series(y_train).value_counts())\n",
    "print(f\"Training set size after SMOTE: {X_train.shape[0]} samples\")\n",
    "\n"
   ]
  },
  {
   "cell_type": "code",
   "execution_count": 5,
   "id": "931303a5",
   "metadata": {},
   "outputs": [
    {
     "name": "stdout",
     "output_type": "stream",
     "text": [
      "Baseline accuracies:\n",
      "{'LogisticRegression': 0.65, 'DecisionTree': 0.5, 'RandomForest': 0.6333333333333333, 'SVM': 0.43333333333333335}\n"
     ]
    },
    {
     "name": "stderr",
     "output_type": "stream",
     "text": [
      "c:\\Users\\moham\\AppData\\Local\\Programs\\Python\\Python311\\Lib\\site-packages\\sklearn\\linear_model\\_logistic.py:1296: FutureWarning: Using the 'liblinear' solver for multiclass classification is deprecated. An error will be raised in 1.8. Either use another solver which supports the multinomial loss or wrap the estimator in a OneVsRestClassifier to keep applying a one-versus-rest scheme.\n",
      "  warnings.warn(\n"
     ]
    }
   ],
   "source": [
    "# Cell 2: Baseline models (no tuning)\n",
    "models = {\n",
    "    \"LogisticRegression\": LogisticRegression(max_iter=500, solver=\"liblinear\"),\n",
    "    \"DecisionTree\": DecisionTreeClassifier(random_state=42),\n",
    "    \"RandomForest\": RandomForestClassifier(random_state=42),\n",
    "    \"SVM\": SVC(random_state=42)\n",
    "}\n",
    "\n",
    "baseline_results = {}\n",
    "for name, model in models.items():\n",
    "    model.fit(X_train, y_train)\n",
    "    y_pred = model.predict(X_test)\n",
    "    acc = accuracy_score(y_test, y_pred)\n",
    "    baseline_results[name] = acc\n",
    "\n",
    "print(\"Baseline accuracies:\")\n",
    "print(baseline_results)\n",
    "\n"
   ]
  },
  {
   "cell_type": "code",
   "execution_count": 6,
   "id": "0973aa2c",
   "metadata": {},
   "outputs": [
    {
     "name": "stderr",
     "output_type": "stream",
     "text": [
      "c:\\Users\\moham\\AppData\\Local\\Programs\\Python\\Python311\\Lib\\site-packages\\sklearn\\model_selection\\_search.py:317: UserWarning: The total space of parameters 10 is smaller than n_iter=20. Running 10 iterations. For exhaustive searches, use GridSearchCV.\n",
      "  warnings.warn(\n"
     ]
    },
    {
     "name": "stdout",
     "output_type": "stream",
     "text": [
      "Best Logistic Regression: {'penalty': 'l1', 'C': 100}\n"
     ]
    },
    {
     "name": "stderr",
     "output_type": "stream",
     "text": [
      "c:\\Users\\moham\\AppData\\Local\\Programs\\Python\\Python311\\Lib\\site-packages\\sklearn\\linear_model\\_logistic.py:1296: FutureWarning: Using the 'liblinear' solver for multiclass classification is deprecated. An error will be raised in 1.8. Either use another solver which supports the multinomial loss or wrap the estimator in a OneVsRestClassifier to keep applying a one-versus-rest scheme.\n",
      "  warnings.warn(\n"
     ]
    }
   ],
   "source": [
    "# Cell 3: Hyperparameter tuning - Logistic Regression\n",
    "param_dist = {\n",
    "    \"C\": [0.01, 0.1, 1, 10, 100],\n",
    "    \"penalty\": [\"l1\", \"l2\"]\n",
    "}\n",
    "\n",
    "log_reg = LogisticRegression(max_iter=10000, solver=\"liblinear\")\n",
    "\n",
    "log_search = RandomizedSearchCV(\n",
    "    estimator=log_reg,\n",
    "    param_distributions=param_dist,\n",
    "    n_iter=20,\n",
    "    cv=5,\n",
    "    scoring=\"accuracy\",\n",
    "    random_state=42,\n",
    "    n_jobs=-1\n",
    ")\n",
    "\n",
    "log_search.fit(X_train, y_train)\n",
    "\n",
    "print(\"Best Logistic Regression:\", log_search.best_params_)\n",
    "\n"
   ]
  },
  {
   "cell_type": "code",
   "execution_count": 7,
   "id": "836ce077",
   "metadata": {},
   "outputs": [
    {
     "name": "stdout",
     "output_type": "stream",
     "text": [
      "Best Decision Tree: {'min_samples_split': 2, 'min_samples_leaf': 2, 'max_depth': 30}\n"
     ]
    }
   ],
   "source": [
    "# Cell 4: Hyperparameter tuning - Decision Tree\n",
    "param_dist = {\n",
    "    \"max_depth\": [None, 5, 10, 20, 30],\n",
    "    \"min_samples_split\": [2, 5, 10],\n",
    "    \"min_samples_leaf\": [1, 2, 4]\n",
    "}\n",
    "\n",
    "dt = DecisionTreeClassifier(random_state=42)\n",
    "\n",
    "dt_search = RandomizedSearchCV(\n",
    "    estimator=dt,\n",
    "    param_distributions=param_dist,\n",
    "    n_iter=10,\n",
    "    cv=5,\n",
    "    scoring=\"accuracy\",\n",
    "    random_state=42,\n",
    "    n_jobs=-1\n",
    ")\n",
    "\n",
    "dt_search.fit(X_train, y_train)\n",
    "\n",
    "print(\"Best Decision Tree:\", dt_search.best_params_)\n",
    "\n"
   ]
  },
  {
   "cell_type": "code",
   "execution_count": 8,
   "id": "930fb069",
   "metadata": {},
   "outputs": [
    {
     "name": "stdout",
     "output_type": "stream",
     "text": [
      "Best Random Forest: {'n_estimators': 100, 'min_samples_split': 2, 'min_samples_leaf': 1, 'max_features': 'log2', 'max_depth': 10}\n"
     ]
    }
   ],
   "source": [
    "# Cell 5: Hyperparameter tuning - Random Forest\n",
    "param_dist = {\n",
    "    \"n_estimators\": [50, 100, 200, 300],\n",
    "    \"max_depth\": [None, 5, 10, 20],\n",
    "    \"min_samples_split\": [2, 5, 10],\n",
    "    \"min_samples_leaf\": [1, 2, 4],\n",
    "    \"max_features\": [\"sqrt\", \"log2\"]\n",
    "}\n",
    "\n",
    "rf = RandomForestClassifier(random_state=42)\n",
    "\n",
    "rf_search = RandomizedSearchCV(\n",
    "    estimator=rf,\n",
    "    param_distributions=param_dist,\n",
    "    n_iter=20,\n",
    "    cv=5,\n",
    "    scoring=\"accuracy\",\n",
    "    random_state=42,\n",
    "    n_jobs=-1\n",
    ")\n",
    "\n",
    "rf_search.fit(X_train, y_train)\n",
    "\n",
    "print(\"Best Random Forest:\", rf_search.best_params_)\n",
    "\n"
   ]
  },
  {
   "cell_type": "code",
   "execution_count": 9,
   "id": "87931570",
   "metadata": {},
   "outputs": [
    {
     "name": "stdout",
     "output_type": "stream",
     "text": [
      "Best SVM: {'kernel': 'rbf', 'gamma': 0.01, 'C': 100}\n"
     ]
    }
   ],
   "source": [
    "# Cell 6: Hyperparameter tuning - SVM\n",
    "param_dist = {\n",
    "    \"C\": [0.1, 1, 10, 100],\n",
    "    \"gamma\": [0.001, 0.01, 0.1, 1],\n",
    "    \"kernel\": [\"rbf\", \"poly\", \"sigmoid\"]\n",
    "}\n",
    "\n",
    "svm = SVC(random_state=42,max_iter=2000)\n",
    "\n",
    "svm_search = RandomizedSearchCV(\n",
    "    estimator=svm,\n",
    "    param_distributions=param_dist,\n",
    "    n_iter=20,\n",
    "    cv=5,\n",
    "    scoring=\"accuracy\",\n",
    "    random_state=42,\n",
    "    n_jobs=-1\n",
    ")\n",
    "\n",
    "svm_search.fit(X_train, y_train)\n",
    "\n",
    "print(\"Best SVM:\", svm_search.best_params_)\n"
   ]
  },
  {
   "cell_type": "code",
   "execution_count": 10,
   "id": "62bfdc58",
   "metadata": {},
   "outputs": [
    {
     "name": "stdout",
     "output_type": "stream",
     "text": [
      "Baseline Results: {'LogisticRegression': 0.65, 'DecisionTree': 0.5, 'RandomForest': 0.6333333333333333, 'SVM': 0.43333333333333335}\n",
      "Tuned Results: {'LogisticRegression': 0.65, 'DecisionTree': 0.5333333333333333, 'RandomForest': 0.6, 'SVM': 0.4}\n",
      "✅ Best Model: LogisticRegression with accuracy 0.65\n"
     ]
    }
   ],
   "source": [
    "# Cell 7: Compare all tuned models\n",
    "tuned_results = {\n",
    "    \"LogisticRegression\": accuracy_score(y_test, log_search.best_estimator_.predict(X_test)),\n",
    "    \"DecisionTree\": accuracy_score(y_test, dt_search.best_estimator_.predict(X_test)),\n",
    "    \"RandomForest\": accuracy_score(y_test, rf_search.best_estimator_.predict(X_test)),\n",
    "    \"SVM\": accuracy_score(y_test, svm_search.best_estimator_.predict(X_test)),\n",
    "}\n",
    "\n",
    "print(\"Baseline Results:\", baseline_results)\n",
    "print(\"Tuned Results:\", tuned_results)\n",
    "\n",
    "best_model_name = max(tuned_results, key=tuned_results.get)\n",
    "best_model = {\n",
    "    \"LogisticRegression\": log_search.best_estimator_,\n",
    "    \"DecisionTree\": dt_search.best_estimator_,\n",
    "    \"RandomForest\": rf_search.best_estimator_,\n",
    "    \"SVM\": svm_search.best_estimator_\n",
    "}[best_model_name]\n",
    "\n",
    "print(f\"✅ Best Model: {best_model_name} with accuracy {tuned_results[best_model_name]}\")\n"
   ]
  },
  {
   "cell_type": "code",
   "execution_count": 11,
   "id": "e0b3a0e8",
   "metadata": {},
   "outputs": [
    {
     "name": "stdout",
     "output_type": "stream",
     "text": [
      "Model saved as ../models/final_model.pkl (LogisticRegression)\n"
     ]
    }
   ],
   "source": [
    "# Cell 8: Save final chosen model\n",
    "joblib.dump(best_model, \"../models/final_model.pkl\")\n",
    "print(f\"Model saved as ../models/final_model.pkl ({best_model_name})\")\n"
   ]
  }
 ],
 "metadata": {
  "kernelspec": {
   "display_name": "Python 3",
   "language": "python",
   "name": "python3"
  },
  "language_info": {
   "codemirror_mode": {
    "name": "ipython",
    "version": 3
   },
   "file_extension": ".py",
   "mimetype": "text/x-python",
   "name": "python",
   "nbconvert_exporter": "python",
   "pygments_lexer": "ipython3",
   "version": "3.11.9"
  }
 },
 "nbformat": 4,
 "nbformat_minor": 5
}
