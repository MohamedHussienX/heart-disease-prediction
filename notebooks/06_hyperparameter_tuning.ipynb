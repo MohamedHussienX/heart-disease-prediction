{
 "cells": [
  {
   "cell_type": "markdown",
   "id": "8d8ec168",
   "metadata": {},
   "source": [
    "# 06 - Hyperparameter tuning & final model"
   ]
  },
  {
   "cell_type": "code",
   "execution_count": 6,
   "id": "c26ab77c",
   "metadata": {},
   "outputs": [
    {
     "name": "stdout",
     "output_type": "stream",
     "text": [
      "Training set distribution before SMOTE:\n",
      "target\n",
      "0    128\n",
      "1     43\n",
      "3     28\n",
      "2     28\n",
      "4     10\n",
      "Name: count, dtype: int64\n"
     ]
    }
   ],
   "source": [
    "# =============================\n",
    "# Cell 1: Imports and dataset\n",
    "# =============================\n",
    "import pandas as pd\n",
    "from sklearn.model_selection import train_test_split, RandomizedSearchCV\n",
    "from sklearn.linear_model import LogisticRegression\n",
    "from sklearn.tree import DecisionTreeClassifier\n",
    "from sklearn.ensemble import RandomForestClassifier\n",
    "from sklearn.svm import SVC\n",
    "from sklearn.preprocessing import StandardScaler\n",
    "from sklearn.metrics import accuracy_score, classification_report, confusion_matrix\n",
    "from imblearn.over_sampling import SMOTE\n",
    "from imblearn.pipeline import Pipeline\n",
    "import joblib\n",
    "\n",
    "# Load dataset\n",
    "df = pd.read_csv(\"../data/heart_disease_selected.csv\")\n",
    "\n",
    "X = df.drop(\"target\", axis=1)\n",
    "y = df[\"target\"]\n",
    "\n",
    "# Train/test split (keep stratify to preserve distribution)\n",
    "X_train, X_test, y_train, y_test = train_test_split(\n",
    "    X, y, test_size=0.2, random_state=42, stratify=y\n",
    ")\n",
    "\n",
    "print(\"Training set distribution before SMOTE:\")\n",
    "print(y_train.value_counts())\n",
    "\n"
   ]
  },
  {
   "cell_type": "code",
   "execution_count": 7,
   "id": "931303a5",
   "metadata": {},
   "outputs": [
    {
     "name": "stdout",
     "output_type": "stream",
     "text": [
      "\n",
      "Baseline accuracies with SMOTE in pipeline:\n",
      "{'LogisticRegression': 0.65, 'DecisionTree': 0.5, 'RandomForest': 0.6333333333333333, 'SVM': 0.5166666666666667}\n"
     ]
    },
    {
     "name": "stderr",
     "output_type": "stream",
     "text": [
      "c:\\Users\\moham\\AppData\\Local\\Programs\\Python\\Python311\\Lib\\site-packages\\sklearn\\linear_model\\_logistic.py:1296: FutureWarning: Using the 'liblinear' solver for multiclass classification is deprecated. An error will be raised in 1.8. Either use another solver which supports the multinomial loss or wrap the estimator in a OneVsRestClassifier to keep applying a one-versus-rest scheme.\n",
      "  warnings.warn(\n"
     ]
    }
   ],
   "source": [
    "# =============================\n",
    "# Cell 2: Baseline models (pipelines)\n",
    "# =============================\n",
    "\n",
    "models = {\n",
    "    \"LogisticRegression\": Pipeline([\n",
    "        (\"smote\", SMOTE(random_state=42)),\n",
    "        (\"scaler\", StandardScaler()),\n",
    "        (\"clf\", LogisticRegression(max_iter=500, solver=\"liblinear\"))\n",
    "    ]),\n",
    "    \"DecisionTree\": Pipeline([\n",
    "        (\"smote\", SMOTE(random_state=42)),\n",
    "        (\"clf\", DecisionTreeClassifier(random_state=42))\n",
    "    ]),\n",
    "    \"RandomForest\": Pipeline([\n",
    "        (\"smote\", SMOTE(random_state=42)),\n",
    "        (\"clf\", RandomForestClassifier(random_state=42))\n",
    "    ]),\n",
    "    \"SVM\": Pipeline([\n",
    "        (\"smote\", SMOTE(random_state=42)),\n",
    "        (\"scaler\", StandardScaler()),\n",
    "        (\"clf\", SVC(random_state=42))\n",
    "    ])\n",
    "}\n",
    "\n",
    "baseline_results = {}\n",
    "for name, pipeline in models.items():\n",
    "    pipeline.fit(X_train, y_train)\n",
    "    y_pred = pipeline.predict(X_test)\n",
    "    acc = accuracy_score(y_test, y_pred)\n",
    "    baseline_results[name] = acc\n",
    "\n",
    "print(\"\\nBaseline accuracies with SMOTE in pipeline:\")\n",
    "print(baseline_results)\n"
   ]
  },
  {
   "cell_type": "code",
   "execution_count": 8,
   "id": "0973aa2c",
   "metadata": {},
   "outputs": [
    {
     "name": "stderr",
     "output_type": "stream",
     "text": [
      "c:\\Users\\moham\\AppData\\Local\\Programs\\Python\\Python311\\Lib\\site-packages\\sklearn\\linear_model\\_logistic.py:1296: FutureWarning: Using the 'liblinear' solver for multiclass classification is deprecated. An error will be raised in 1.8. Either use another solver which supports the multinomial loss or wrap the estimator in a OneVsRestClassifier to keep applying a one-versus-rest scheme.\n",
      "  warnings.warn(\n"
     ]
    },
    {
     "name": "stdout",
     "output_type": "stream",
     "text": [
      "Best Logistic Regression params: {'clf__penalty': 'l2', 'clf__C': 0.01}\n",
      "Best Decision Tree params: {'clf__min_samples_split': 2, 'clf__min_samples_leaf': 2, 'clf__max_depth': 30}\n",
      "Best Random Forest params: {'clf__n_estimators': 300, 'clf__min_samples_split': 2, 'clf__min_samples_leaf': 4, 'clf__max_features': 'log2', 'clf__max_depth': 20}\n",
      "Best SVM params: {'clf__kernel': 'rbf', 'clf__gamma': 0.01, 'clf__C': 10}\n"
     ]
    }
   ],
   "source": [
    "# =============================\n",
    "# Cell 3: Hyperparameter tuning\n",
    "# =============================\n",
    "\n",
    "# Logistic Regression\n",
    "log_param_dist = {\n",
    "    \"clf__C\": [0.01, 0.1, 1, 10, 100],\n",
    "    \"clf__penalty\": [\"l1\", \"l2\"]\n",
    "}\n",
    "\n",
    "log_pipe = Pipeline([\n",
    "    (\"smote\", SMOTE(random_state=42)),\n",
    "    (\"scaler\", StandardScaler()),\n",
    "    (\"clf\", LogisticRegression(max_iter=10000, solver=\"liblinear\"))\n",
    "])\n",
    "\n",
    "log_search = RandomizedSearchCV(\n",
    "    estimator=log_pipe,\n",
    "    param_distributions=log_param_dist,\n",
    "    n_iter=10,\n",
    "    cv=5,\n",
    "    scoring=\"accuracy\",\n",
    "    random_state=42,\n",
    "    n_jobs=-1\n",
    ")\n",
    "log_search.fit(X_train, y_train)\n",
    "print(\"Best Logistic Regression params:\", log_search.best_params_)\n",
    "\n",
    "# Decision Tree\n",
    "dt_param_dist = {\n",
    "    \"clf__max_depth\": [None, 5, 10, 20, 30],\n",
    "    \"clf__min_samples_split\": [2, 5, 10],\n",
    "    \"clf__min_samples_leaf\": [1, 2, 4]\n",
    "}\n",
    "\n",
    "dt_pipe = Pipeline([\n",
    "    (\"smote\", SMOTE(random_state=42)),\n",
    "    (\"clf\", DecisionTreeClassifier(random_state=42))\n",
    "])\n",
    "\n",
    "dt_search = RandomizedSearchCV(\n",
    "    estimator=dt_pipe,\n",
    "    param_distributions=dt_param_dist,\n",
    "    n_iter=10,\n",
    "    cv=5,\n",
    "    scoring=\"accuracy\",\n",
    "    random_state=42,\n",
    "    n_jobs=-1\n",
    ")\n",
    "dt_search.fit(X_train, y_train)\n",
    "print(\"Best Decision Tree params:\", dt_search.best_params_)\n",
    "\n",
    "# Random Forest\n",
    "rf_param_dist = {\n",
    "    \"clf__n_estimators\": [50, 100, 200, 300],\n",
    "    \"clf__max_depth\": [None, 5, 10, 20],\n",
    "    \"clf__min_samples_split\": [2, 5, 10],\n",
    "    \"clf__min_samples_leaf\": [1, 2, 4],\n",
    "    \"clf__max_features\": [\"sqrt\", \"log2\"]\n",
    "}\n",
    "\n",
    "rf_pipe = Pipeline([\n",
    "    (\"smote\", SMOTE(random_state=42)),\n",
    "    (\"clf\", RandomForestClassifier(random_state=42))\n",
    "])\n",
    "\n",
    "rf_search = RandomizedSearchCV(\n",
    "    estimator=rf_pipe,\n",
    "    param_distributions=rf_param_dist,\n",
    "    n_iter=20,\n",
    "    cv=5,\n",
    "    scoring=\"accuracy\",\n",
    "    random_state=42,\n",
    "    n_jobs=-1\n",
    ")\n",
    "rf_search.fit(X_train, y_train)\n",
    "print(\"Best Random Forest params:\", rf_search.best_params_)\n",
    "\n",
    "# SVM\n",
    "svm_param_dist = {\n",
    "    \"clf__C\": [0.1, 1, 10, 100],\n",
    "    \"clf__gamma\": [0.001, 0.01, 0.1, 1],\n",
    "    \"clf__kernel\": [\"rbf\", \"poly\", \"sigmoid\"]\n",
    "}\n",
    "\n",
    "svm_pipe = Pipeline([\n",
    "    (\"smote\", SMOTE(random_state=42)),\n",
    "    (\"scaler\", StandardScaler()),\n",
    "    (\"clf\", SVC(random_state=42, max_iter=2000))\n",
    "])\n",
    "\n",
    "svm_search = RandomizedSearchCV(\n",
    "    estimator=svm_pipe,\n",
    "    param_distributions=svm_param_dist,\n",
    "    n_iter=15,\n",
    "    cv=5,\n",
    "    scoring=\"accuracy\",\n",
    "    random_state=42,\n",
    "    n_jobs=-1\n",
    ")\n",
    "svm_search.fit(X_train, y_train)\n",
    "print(\"Best SVM params:\", svm_search.best_params_)"
   ]
  },
  {
   "cell_type": "code",
   "execution_count": 9,
   "id": "836ce077",
   "metadata": {},
   "outputs": [
    {
     "name": "stdout",
     "output_type": "stream",
     "text": [
      "\n",
      "Baseline Results: {'LogisticRegression': 0.65, 'DecisionTree': 0.5, 'RandomForest': 0.6333333333333333, 'SVM': 0.5166666666666667}\n",
      "Tuned Results: {'LogisticRegression': 0.5833333333333334, 'DecisionTree': 0.5333333333333333, 'RandomForest': 0.6, 'SVM': 0.5666666666666667}\n",
      "\n",
      "✅ Best Model: RandomForest with accuracy 0.6\n"
     ]
    }
   ],
   "source": [
    "# =============================\n",
    "# Cell 4: Compare tuned models\n",
    "# =============================\n",
    "\n",
    "tuned_results = {\n",
    "    \"LogisticRegression\": accuracy_score(y_test, log_search.best_estimator_.predict(X_test)),\n",
    "    \"DecisionTree\": accuracy_score(y_test, dt_search.best_estimator_.predict(X_test)),\n",
    "    \"RandomForest\": accuracy_score(y_test, rf_search.best_estimator_.predict(X_test)),\n",
    "    \"SVM\": accuracy_score(y_test, svm_search.best_estimator_.predict(X_test)),\n",
    "}\n",
    "\n",
    "print(\"\\nBaseline Results:\", baseline_results)\n",
    "print(\"Tuned Results:\", tuned_results)\n",
    "\n",
    "best_model_name = max(tuned_results, key=tuned_results.get)\n",
    "best_model = {\n",
    "    \"LogisticRegression\": log_search.best_estimator_,\n",
    "    \"DecisionTree\": dt_search.best_estimator_,\n",
    "    \"RandomForest\": rf_search.best_estimator_,\n",
    "    \"SVM\": svm_search.best_estimator_\n",
    "}[best_model_name]\n",
    "\n",
    "print(f\"\\n✅ Best Model: {best_model_name} with accuracy {tuned_results[best_model_name]}\")\n",
    "\n"
   ]
  },
  {
   "cell_type": "code",
   "execution_count": 10,
   "id": "930fb069",
   "metadata": {},
   "outputs": [
    {
     "name": "stdout",
     "output_type": "stream",
     "text": [
      "\n",
      "Confusion Matrix:\n",
      "[[29  3  0  0  0]\n",
      " [ 3  2  2  4  0]\n",
      " [ 0  2  2  2  1]\n",
      " [ 0  3  1  3  0]\n",
      " [ 0  2  0  1  0]]\n",
      "\n",
      "Classification Report:\n",
      "              precision    recall  f1-score   support\n",
      "\n",
      "           0       0.91      0.91      0.91        32\n",
      "           1       0.17      0.18      0.17        11\n",
      "           2       0.40      0.29      0.33         7\n",
      "           3       0.30      0.43      0.35         7\n",
      "           4       0.00      0.00      0.00         3\n",
      "\n",
      "    accuracy                           0.60        60\n",
      "   macro avg       0.35      0.36      0.35        60\n",
      "weighted avg       0.60      0.60      0.60        60\n",
      "\n",
      "Model saved as ../models/final_model.pkl (RandomForest)\n"
     ]
    }
   ],
   "source": [
    "# =============================\n",
    "# Cell 5: Final evaluation & save\n",
    "# =============================\n",
    "y_pred = best_model.predict(X_test)\n",
    "print(\"\\nConfusion Matrix:\")\n",
    "print(confusion_matrix(y_test, y_pred))\n",
    "print(\"\\nClassification Report:\")\n",
    "print(classification_report(y_test, y_pred))\n",
    "\n",
    "joblib.dump(best_model, \"../models/final_model.pkl\")\n",
    "print(f\"Model saved as ../models/final_model.pkl ({best_model_name})\")"
   ]
  }
 ],
 "metadata": {
  "kernelspec": {
   "display_name": "Python 3",
   "language": "python",
   "name": "python3"
  },
  "language_info": {
   "codemirror_mode": {
    "name": "ipython",
    "version": 3
   },
   "file_extension": ".py",
   "mimetype": "text/x-python",
   "name": "python",
   "nbconvert_exporter": "python",
   "pygments_lexer": "ipython3",
   "version": "3.11.9"
  }
 },
 "nbformat": 4,
 "nbformat_minor": 5
}
