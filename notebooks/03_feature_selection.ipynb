{
 "cells": [
  {
   "cell_type": "markdown",
   "id": "7cb1a8e1",
   "metadata": {},
   "source": [
    "# 03 - Feature selection"
   ]
  },
  {
   "cell_type": "code",
   "execution_count": 1,
   "id": "6c3059bb",
   "metadata": {},
   "outputs": [],
   "source": [
    "import pandas as pd\n",
    "import numpy as np\n",
    "import matplotlib.pyplot as plt\n",
    "from sklearn.ensemble import RandomForestClassifier\n",
    "from sklearn.linear_model import LogisticRegression\n",
    "from sklearn.feature_selection import RFE, SelectKBest, chi2\n",
    "from sklearn.preprocessing import StandardScaler\n",
    "\n",
    "df = pd.read_csv(\"../data/heart_disease_clean.csv\")\n",
    "X = df.drop(columns=[\"target\"])\n",
    "y = df[\"target\"]\n",
    "\n",
    "# Temporary scaling for algorithms that need numeric matrix\n",
    "X_temp_scaled = StandardScaler().fit_transform(X)\n",
    "X_temp_df = pd.DataFrame(X_temp_scaled, columns=X.columns)\n"
   ]
  },
  {
   "cell_type": "code",
   "execution_count": 2,
   "id": "600e7eeb",
   "metadata": {},
   "outputs": [
    {
     "data": {
      "image/png": "[encoded data removed]",
      "text/plain": [
       "<Figure size 1000x600 with 1 Axes>"
      ]
     },
     "metadata": {},
     "output_type": "display_data"
    },
    {
     "name": "stdout",
     "output_type": "stream",
     "text": [
      "Top 10 features:\n",
      " thalach     0.138926\n",
      "oldpeak     0.117851\n",
      "age         0.115244\n",
      "chol        0.113633\n",
      "trestbps    0.099319\n",
      "ca          0.094761\n",
      "thal        0.082430\n",
      "cp          0.075682\n",
      "exang       0.046423\n",
      "slope       0.042554\n",
      "dtype: float64\n"
     ]
    }
   ],
   "source": [
    "rf = RandomForestClassifier(random_state=42)\n",
    "rf.fit(X_temp_scaled, y)\n",
    "importances = rf.feature_importances_\n",
    "feat_importance = pd.Series(importances, index=X.columns).sort_values(ascending=False)\n",
    "\n",
    "plt.figure(figsize=(10,6))\n",
    "feat_importance.plot(kind='bar')\n",
    "plt.title(\"Feature importance (Random Forest)\")\n",
    "plt.show()\n",
    "\n",
    "print(\"Top 10 features:\\n\", feat_importance.head(10))\n"
   ]
  },
  {
   "cell_type": "code",
   "execution_count": 3,
   "id": "9d372867",
   "metadata": {},
   "outputs": [
    {
     "name": "stdout",
     "output_type": "stream",
     "text": [
      "RFE selected: ['age', 'sex', 'cp', 'fbs', 'restecg', 'thalach', 'exang', 'oldpeak', 'ca', 'thal']\n"
     ]
    },
    {
     "name": "stderr",
     "output_type": "stream",
     "text": [
      "c:\\Users\\moham\\AppData\\Local\\Programs\\Python\\Python311\\Lib\\site-packages\\sklearn\\linear_model\\_logistic.py:1296: FutureWarning: Using the 'liblinear' solver for multiclass classification is deprecated. An error will be raised in 1.8. Either use another solver which supports the multinomial loss or wrap the estimator in a OneVsRestClassifier to keep applying a one-versus-rest scheme.\n",
      "  warnings.warn(\n",
      "c:\\Users\\moham\\AppData\\Local\\Programs\\Python\\Python311\\Lib\\site-packages\\sklearn\\linear_model\\_logistic.py:1296: FutureWarning: Using the 'liblinear' solver for multiclass classification is deprecated. An error will be raised in 1.8. Either use another solver which supports the multinomial loss or wrap the estimator in a OneVsRestClassifier to keep applying a one-versus-rest scheme.\n",
      "  warnings.warn(\n",
      "c:\\Users\\moham\\AppData\\Local\\Programs\\Python\\Python311\\Lib\\site-packages\\sklearn\\linear_model\\_logistic.py:1296: FutureWarning: Using the 'liblinear' solver for multiclass classification is deprecated. An error will be raised in 1.8. Either use another solver which supports the multinomial loss or wrap the estimator in a OneVsRestClassifier to keep applying a one-versus-rest scheme.\n",
      "  warnings.warn(\n",
      "c:\\Users\\moham\\AppData\\Local\\Programs\\Python\\Python311\\Lib\\site-packages\\sklearn\\linear_model\\_logistic.py:1296: FutureWarning: Using the 'liblinear' solver for multiclass classification is deprecated. An error will be raised in 1.8. Either use another solver which supports the multinomial loss or wrap the estimator in a OneVsRestClassifier to keep applying a one-versus-rest scheme.\n",
      "  warnings.warn(\n"
     ]
    }
   ],
   "source": [
    "log_reg = LogisticRegression(max_iter=1000, solver='liblinear')\n",
    "rfe = RFE(log_reg, n_features_to_select=10)\n",
    "rfe.fit(X_temp_scaled, y)\n",
    "selected_rfe = X.columns[rfe.support_].tolist()\n",
    "print(\"RFE selected:\", selected_rfe)\n"
   ]
  },
  {
   "cell_type": "code",
   "execution_count": 4,
   "id": "a87ecc45",
   "metadata": {},
   "outputs": [
    {
     "name": "stdout",
     "output_type": "stream",
     "text": [
      "Chi2 selected: ['age', 'sex', 'trestbps', 'chol', 'fbs', 'thalach', 'exang', 'oldpeak', 'ca', 'thal']\n"
     ]
    }
   ],
   "source": [
    "# chi2 requires non-negative; use absolute scaled values as quick workaround (not perfect)\n",
    "chi2_selector = SelectKBest(score_func=chi2, k=10)\n",
    "X_chi2 = chi2_selector.fit_transform(np.abs(X_temp_scaled), y)\n",
    "chi2_features = X.columns[chi2_selector.get_support()].tolist()\n",
    "print(\"Chi2 selected:\", chi2_features)\n"
   ]
  },
  {
   "cell_type": "code",
   "execution_count": 5,
   "id": "7289883b",
   "metadata": {},
   "outputs": [
    {
     "name": "stdout",
     "output_type": "stream",
     "text": [
      "['age', 'oldpeak', 'thal', 'ca', 'thalach', 'cp', 'trestbps', 'slope', 'chol', 'restecg', 'fbs', 'sex', 'exang']\n",
      "['thalach', 'oldpeak', 'age', 'chol', 'trestbps', 'ca', 'thal', 'cp', 'exang', 'slope', 'restecg', 'sex', 'fbs']\n",
      "Final selected features (top 9 union): ['thalach', 'oldpeak', 'age', 'chol', 'trestbps', 'ca', 'thal', 'cp', 'exang']\n",
      "Saved ../data/heart_disease_selected.csv and ../models/selected_features.json\n"
     ]
    }
   ],
   "source": [
    "# Union of features from all methods\n",
    "all_features = list(set(feat_importance.head(10).index) | set(selected_rfe) | set(chi2_features))\n",
    "print(all_features)\n",
    "\n",
    "# Rank features by Random Forest importance\n",
    "all_features_sorted = sorted(all_features, key=lambda x: feat_importance[x], reverse=True)\n",
    "print(all_features_sorted)\n",
    "\n",
    "# Keep only top 9 features\n",
    "selected_features = all_features_sorted[:9]\n",
    "\n",
    "print(\"Final selected features (top 9 union):\", selected_features)\n",
    "\n",
    "# Create reduced dataset and save\n",
    "X_selected = df[selected_features].copy()\n",
    "X_selected['target'] = y\n",
    "X_selected.to_csv(\"../data/heart_disease_selected.csv\", index=False)\n",
    "\n",
    "# Save feature names to model folder\n",
    "import json\n",
    "with open(\"../models/selected_features.json\",\"w\") as f:\n",
    "    json.dump(selected_features, f)\n",
    "\n",
    "print(\"Saved ../data/heart_disease_selected.csv and ../models/selected_features.json\")\n",
    "\n"
   ]
  }
 ],
 "metadata": {
  "kernelspec": {
   "display_name": "Python 3",
   "language": "python",
   "name": "python3"
  },
  "language_info": {
   "codemirror_mode": {
    "name": "ipython",
    "version": 3
   },
   "file_extension": ".py",
   "mimetype": "text/x-python",
   "name": "python",
   "nbconvert_exporter": "python",
   "pygments_lexer": "ipython3",
   "version": "3.11.9"
  }
 },
 "nbformat": 4,
 "nbformat_minor": 5
}
